{
 "cells": [
  {
   "cell_type": "markdown",
   "metadata": {},
   "source": [
    "### Import required libraries"
   ]
  },
  {
   "cell_type": "code",
   "execution_count": 1,
   "metadata": {},
   "outputs": [],
   "source": [
    "import pandas as pd\n",
    "import numpy as np\n",
    "import plotly.graph_objects as go\n",
    "import random\n",
    "from collections import Counter"
   ]
  },
  {
   "cell_type": "markdown",
   "metadata": {},
   "source": [
    "\n",
    "\n",
    "### Read and clean up missing data"
   ]
  },
  {
   "cell_type": "code",
   "execution_count": 2,
   "metadata": {},
   "outputs": [
    {
     "data": {
      "text/html": [
       "<div>\n",
       "<style scoped>\n",
       "    .dataframe tbody tr th:only-of-type {\n",
       "        vertical-align: middle;\n",
       "    }\n",
       "\n",
       "    .dataframe tbody tr th {\n",
       "        vertical-align: top;\n",
       "    }\n",
       "\n",
       "    .dataframe thead th {\n",
       "        text-align: right;\n",
       "    }\n",
       "</style>\n",
       "<table border=\"1\" class=\"dataframe\">\n",
       "  <thead>\n",
       "    <tr style=\"text-align: right;\">\n",
       "      <th></th>\n",
       "      <th>PID</th>\n",
       "      <th>cluster1</th>\n",
       "      <th>cluster2</th>\n",
       "      <th>cluster3</th>\n",
       "      <th>cluster4</th>\n",
       "    </tr>\n",
       "  </thead>\n",
       "  <tbody>\n",
       "    <tr>\n",
       "      <th>1</th>\n",
       "      <td>1002</td>\n",
       "      <td>4</td>\n",
       "      <td>7</td>\n",
       "      <td>4</td>\n",
       "      <td>3</td>\n",
       "    </tr>\n",
       "    <tr>\n",
       "      <th>2</th>\n",
       "      <td>1003</td>\n",
       "      <td>4</td>\n",
       "      <td>5</td>\n",
       "      <td>4</td>\n",
       "      <td>4</td>\n",
       "    </tr>\n",
       "    <tr>\n",
       "      <th>5</th>\n",
       "      <td>1006</td>\n",
       "      <td>4</td>\n",
       "      <td>5</td>\n",
       "      <td>4</td>\n",
       "      <td>3</td>\n",
       "    </tr>\n",
       "    <tr>\n",
       "      <th>7</th>\n",
       "      <td>1010</td>\n",
       "      <td>2</td>\n",
       "      <td>6</td>\n",
       "      <td>4</td>\n",
       "      <td>4</td>\n",
       "    </tr>\n",
       "    <tr>\n",
       "      <th>14</th>\n",
       "      <td>1023</td>\n",
       "      <td>4</td>\n",
       "      <td>1</td>\n",
       "      <td>1</td>\n",
       "      <td>7</td>\n",
       "    </tr>\n",
       "    <tr>\n",
       "      <th>15</th>\n",
       "      <td>1026</td>\n",
       "      <td>1</td>\n",
       "      <td>2</td>\n",
       "      <td>6</td>\n",
       "      <td>6</td>\n",
       "    </tr>\n",
       "    <tr>\n",
       "      <th>17</th>\n",
       "      <td>1028</td>\n",
       "      <td>2</td>\n",
       "      <td>2</td>\n",
       "      <td>6</td>\n",
       "      <td>2</td>\n",
       "    </tr>\n",
       "    <tr>\n",
       "      <th>19</th>\n",
       "      <td>1031</td>\n",
       "      <td>1</td>\n",
       "      <td>1</td>\n",
       "      <td>2</td>\n",
       "      <td>1</td>\n",
       "    </tr>\n",
       "    <tr>\n",
       "      <th>21</th>\n",
       "      <td>1033</td>\n",
       "      <td>6</td>\n",
       "      <td>6</td>\n",
       "      <td>3</td>\n",
       "      <td>7</td>\n",
       "    </tr>\n",
       "    <tr>\n",
       "      <th>22</th>\n",
       "      <td>1034</td>\n",
       "      <td>1</td>\n",
       "      <td>6</td>\n",
       "      <td>1</td>\n",
       "      <td>1</td>\n",
       "    </tr>\n",
       "  </tbody>\n",
       "</table>\n",
       "</div>"
      ],
      "text/plain": [
       "     PID  cluster1  cluster2  cluster3  cluster4\n",
       "1   1002         4         7         4         3\n",
       "2   1003         4         5         4         4\n",
       "5   1006         4         5         4         3\n",
       "7   1010         2         6         4         4\n",
       "14  1023         4         1         1         7\n",
       "15  1026         1         2         6         6\n",
       "17  1028         2         2         6         2\n",
       "19  1031         1         1         2         1\n",
       "21  1033         6         6         3         7\n",
       "22  1034         1         6         1         1"
      ]
     },
     "execution_count": 2,
     "metadata": {},
     "output_type": "execute_result"
    }
   ],
   "source": [
    "# read data from file\n",
    "df = pd.read_excel('clustertransition.xls')\n",
    "# remove rows with missing data\n",
    "df = df.dropna()\n",
    "# cast all columns to integer type\n",
    "df = df.astype('int32')\n",
    "# first 10 rows\n",
    "df.head(10)"
   ]
  },
  {
   "cell_type": "markdown",
   "metadata": {},
   "source": [
    "\n",
    "\n",
    "\n",
    "### Convert dataframe to the right format for sankey diagram\n",
    "\n",
    "* You will need lists to labels, sources, targets, and values. Colors are optional"
   ]
  },
  {
   "cell_type": "code",
   "execution_count": 12,
   "metadata": {},
   "outputs": [],
   "source": [
    "# build counter of each unique node e.g. {'4': 19, '2': 9, '1': 6, '6': 6, '3': 5 }\n",
    "node_counters = []\n",
    "for i in range(2, 6): # cluster1 to cluster4\n",
    "    selected_cols = df.columns[1:i]\n",
    "    node_list = []\n",
    "    for index, row in df.iterrows():\n",
    "        node = \"\"\n",
    "        for col in selected_cols:\n",
    "            node += str(row[col])\n",
    "        node_list.append(node)\n",
    "    node_counters.append(Counter(node_list))\n",
    "\n",
    "labels = []\n",
    "sources = []\n",
    "targets = []\n",
    "values = []\n",
    "\n",
    "for c in node_counters:\n",
    "    for k in c.keys():\n",
    "        labels.append(k)\n",
    "labels.sort()\n",
    "\n",
    "for c in node_counters[1:]:\n",
    "    for key, value in c.items():\n",
    "        # analyze each key to find source, target and value of each connection\n",
    "        # for example a key '454' with value 5 means 5 patients moved from group\n",
    "        # '45' to group '454'\n",
    "        source = key[:-1] # extract '45' from '454'\n",
    "        target = key\n",
    "        sources.append(labels.index(source))\n",
    "        targets.append(labels.index(target))\n",
    "        values.append(value)\n",
    "\n",
    "palette = ['deepskyblue', 'darkorange', 'plum', 'lime', 'cyan', 'sandybrown', 'teal']\n",
    "# generate color by the first state\n",
    "colors = [palette[int(l[0])-1] for l in labels]"
   ]
  },
  {
   "cell_type": "markdown",
   "metadata": {},
   "source": [
    "\n",
    "\n",
    "### Display diagram"
   ]
  },
  {
   "cell_type": "code",
   "execution_count": 13,
   "metadata": {},
   "outputs": [
    {
     "data": {
      "application/vnd.plotly.v1+json": {
       "config": {
        "plotlyServerURL": "https://plot.ly"
       },
       "data": [
        {
         "link": {
          "source": [
           52,
           52,
           16,
           52,
           0,
           16,
           0,
           101,
           0,
           37,
           16,
           16,
           37,
           101,
           37,
           83,
           101,
           52,
           119,
           83,
           101,
           83,
           83,
           0,
           119,
           52,
           52,
           101,
           37,
           119,
           80,
           74,
           26,
           53,
           5,
           17,
           1,
           111,
           13,
           46,
           29,
           22,
           29,
           38,
           102,
           49,
           29,
           92,
           116,
           66,
           17,
           66,
           120,
           5,
           74,
           89,
           53,
           108,
           98,
           84,
           92,
           111,
           10,
           66,
           128,
           61,
           58,
           105,
           61,
           41,
           84,
           123,
           123,
           41,
           81,
           77,
           77,
           27,
           54,
           8,
           20,
           2,
           112,
           14,
           47,
           35,
           23,
           30,
           39,
           103,
           50,
           32,
           93,
           117,
           71,
           18,
           67,
           121,
           6,
           75,
           90,
           56,
           109,
           99,
           85,
           96,
           71,
           114,
           11,
           69,
           129,
           23,
           64,
           59,
           106,
           62,
           42,
           87,
           126,
           124,
           32,
           2,
           93,
           44
          ],
          "target": [
           80,
           74,
           26,
           53,
           5,
           17,
           1,
           111,
           13,
           46,
           29,
           22,
           38,
           102,
           49,
           92,
           116,
           66,
           120,
           89,
           108,
           98,
           84,
           10,
           128,
           61,
           58,
           105,
           41,
           123,
           81,
           77,
           27,
           54,
           8,
           20,
           2,
           112,
           14,
           47,
           35,
           23,
           30,
           39,
           103,
           50,
           32,
           93,
           117,
           71,
           18,
           67,
           121,
           6,
           75,
           90,
           56,
           109,
           99,
           85,
           96,
           114,
           11,
           69,
           129,
           64,
           59,
           106,
           62,
           42,
           87,
           126,
           124,
           44,
           82,
           79,
           78,
           28,
           55,
           9,
           21,
           3,
           113,
           15,
           48,
           36,
           25,
           31,
           40,
           104,
           51,
           33,
           94,
           118,
           73,
           19,
           68,
           122,
           7,
           76,
           91,
           57,
           110,
           100,
           86,
           97,
           72,
           115,
           12,
           70,
           130,
           24,
           65,
           60,
           107,
           63,
           43,
           88,
           127,
           125,
           34,
           4,
           95,
           45
          ],
          "value": [
           1,
           5,
           1,
           3,
           2,
           2,
           2,
           2,
           1,
           1,
           4,
           2,
           1,
           1,
           1,
           3,
           1,
           7,
           1,
           2,
           1,
           1,
           2,
           1,
           1,
           2,
           1,
           1,
           2,
           2,
           1,
           4,
           1,
           1,
           1,
           1,
           2,
           1,
           1,
           1,
           1,
           2,
           1,
           1,
           1,
           1,
           2,
           2,
           1,
           5,
           1,
           1,
           1,
           1,
           1,
           2,
           2,
           1,
           1,
           1,
           1,
           1,
           1,
           1,
           1,
           1,
           1,
           1,
           1,
           1,
           1,
           1,
           1,
           1,
           1,
           3,
           1,
           1,
           1,
           1,
           1,
           1,
           1,
           1,
           1,
           1,
           1,
           1,
           1,
           1,
           1,
           1,
           1,
           1,
           4,
           1,
           1,
           1,
           1,
           1,
           2,
           2,
           1,
           1,
           1,
           1,
           1,
           1,
           1,
           1,
           1,
           1,
           1,
           1,
           1,
           1,
           1,
           1,
           1,
           1,
           1,
           1,
           1,
           1
          ]
         },
         "node": {
          "color": [
           "deepskyblue",
           "deepskyblue",
           "deepskyblue",
           "deepskyblue",
           "deepskyblue",
           "deepskyblue",
           "deepskyblue",
           "deepskyblue",
           "deepskyblue",
           "deepskyblue",
           "deepskyblue",
           "deepskyblue",
           "deepskyblue",
           "deepskyblue",
           "deepskyblue",
           "deepskyblue",
           "darkorange",
           "darkorange",
           "darkorange",
           "darkorange",
           "darkorange",
           "darkorange",
           "darkorange",
           "darkorange",
           "darkorange",
           "darkorange",
           "darkorange",
           "darkorange",
           "darkorange",
           "darkorange",
           "darkorange",
           "darkorange",
           "darkorange",
           "darkorange",
           "darkorange",
           "darkorange",
           "darkorange",
           "plum",
           "plum",
           "plum",
           "plum",
           "plum",
           "plum",
           "plum",
           "plum",
           "plum",
           "plum",
           "plum",
           "plum",
           "plum",
           "plum",
           "plum",
           "lime",
           "lime",
           "lime",
           "lime",
           "lime",
           "lime",
           "lime",
           "lime",
           "lime",
           "lime",
           "lime",
           "lime",
           "lime",
           "lime",
           "lime",
           "lime",
           "lime",
           "lime",
           "lime",
           "lime",
           "lime",
           "lime",
           "lime",
           "lime",
           "lime",
           "lime",
           "lime",
           "lime",
           "lime",
           "lime",
           "lime",
           "cyan",
           "cyan",
           "cyan",
           "cyan",
           "cyan",
           "cyan",
           "cyan",
           "cyan",
           "cyan",
           "cyan",
           "cyan",
           "cyan",
           "cyan",
           "cyan",
           "cyan",
           "cyan",
           "cyan",
           "cyan",
           "sandybrown",
           "sandybrown",
           "sandybrown",
           "sandybrown",
           "sandybrown",
           "sandybrown",
           "sandybrown",
           "sandybrown",
           "sandybrown",
           "sandybrown",
           "sandybrown",
           "sandybrown",
           "sandybrown",
           "sandybrown",
           "sandybrown",
           "sandybrown",
           "sandybrown",
           "sandybrown",
           "teal",
           "teal",
           "teal",
           "teal",
           "teal",
           "teal",
           "teal",
           "teal",
           "teal",
           "teal",
           "teal",
           "teal"
          ],
          "label": [
           "1",
           "11",
           "112",
           "1121",
           "1122",
           "12",
           "121",
           "1212",
           "126",
           "1266",
           "14",
           "144",
           "1444",
           "16",
           "161",
           "1611",
           "2",
           "22",
           "222",
           "2221",
           "226",
           "2262",
           "23",
           "236",
           "2362",
           "2366",
           "26",
           "264",
           "2644",
           "27",
           "273",
           "2737",
           "276",
           "2766",
           "2767",
           "277",
           "2772",
           "3",
           "31",
           "313",
           "3133",
           "33",
           "335",
           "3351",
           "336",
           "3366",
           "35",
           "357",
           "3577",
           "37",
           "372",
           "3722",
           "4",
           "41",
           "411",
           "4117",
           "414",
           "4141",
           "42",
           "423",
           "4234",
           "43",
           "436",
           "4366",
           "437",
           "4374",
           "44",
           "441",
           "4414",
           "443",
           "4434",
           "444",
           "4441",
           "4444",
           "45",
           "451",
           "4514",
           "454",
           "4543",
           "4544",
           "47",
           "474",
           "4743",
           "5",
           "53",
           "533",
           "5333",
           "534",
           "5344",
           "54",
           "543",
           "5434",
           "55",
           "553",
           "5533",
           "5535",
           "554",
           "5544",
           "57",
           "575",
           "5754",
           "6",
           "62",
           "626",
           "6266",
           "63",
           "636",
           "6366",
           "64",
           "642",
           "6425",
           "66",
           "663",
           "6637",
           "666",
           "6666",
           "67",
           "673",
           "6737",
           "7",
           "72",
           "724",
           "7241",
           "73",
           "732",
           "7321",
           "735",
           "7354",
           "77",
           "777",
           "7773"
          ],
          "line": {
           "color": "black",
           "width": 0.5
          },
          "pad": 2,
          "thickness": 20
         },
         "type": "sankey"
        }
       ],
       "layout": {
        "font": {
         "size": 10
        },
        "height": 800,
        "template": {
         "data": {
          "bar": [
           {
            "error_x": {
             "color": "#2a3f5f"
            },
            "error_y": {
             "color": "#2a3f5f"
            },
            "marker": {
             "line": {
              "color": "#E5ECF6",
              "width": 0.5
             }
            },
            "type": "bar"
           }
          ],
          "barpolar": [
           {
            "marker": {
             "line": {
              "color": "#E5ECF6",
              "width": 0.5
             }
            },
            "type": "barpolar"
           }
          ],
          "carpet": [
           {
            "aaxis": {
             "endlinecolor": "#2a3f5f",
             "gridcolor": "white",
             "linecolor": "white",
             "minorgridcolor": "white",
             "startlinecolor": "#2a3f5f"
            },
            "baxis": {
             "endlinecolor": "#2a3f5f",
             "gridcolor": "white",
             "linecolor": "white",
             "minorgridcolor": "white",
             "startlinecolor": "#2a3f5f"
            },
            "type": "carpet"
           }
          ],
          "choropleth": [
           {
            "colorbar": {
             "outlinewidth": 0,
             "ticks": ""
            },
            "type": "choropleth"
           }
          ],
          "contour": [
           {
            "colorbar": {
             "outlinewidth": 0,
             "ticks": ""
            },
            "colorscale": [
             [
              0,
              "#0d0887"
             ],
             [
              0.1111111111111111,
              "#46039f"
             ],
             [
              0.2222222222222222,
              "#7201a8"
             ],
             [
              0.3333333333333333,
              "#9c179e"
             ],
             [
              0.4444444444444444,
              "#bd3786"
             ],
             [
              0.5555555555555556,
              "#d8576b"
             ],
             [
              0.6666666666666666,
              "#ed7953"
             ],
             [
              0.7777777777777778,
              "#fb9f3a"
             ],
             [
              0.8888888888888888,
              "#fdca26"
             ],
             [
              1,
              "#f0f921"
             ]
            ],
            "type": "contour"
           }
          ],
          "contourcarpet": [
           {
            "colorbar": {
             "outlinewidth": 0,
             "ticks": ""
            },
            "type": "contourcarpet"
           }
          ],
          "heatmap": [
           {
            "colorbar": {
             "outlinewidth": 0,
             "ticks": ""
            },
            "colorscale": [
             [
              0,
              "#0d0887"
             ],
             [
              0.1111111111111111,
              "#46039f"
             ],
             [
              0.2222222222222222,
              "#7201a8"
             ],
             [
              0.3333333333333333,
              "#9c179e"
             ],
             [
              0.4444444444444444,
              "#bd3786"
             ],
             [
              0.5555555555555556,
              "#d8576b"
             ],
             [
              0.6666666666666666,
              "#ed7953"
             ],
             [
              0.7777777777777778,
              "#fb9f3a"
             ],
             [
              0.8888888888888888,
              "#fdca26"
             ],
             [
              1,
              "#f0f921"
             ]
            ],
            "type": "heatmap"
           }
          ],
          "heatmapgl": [
           {
            "colorbar": {
             "outlinewidth": 0,
             "ticks": ""
            },
            "colorscale": [
             [
              0,
              "#0d0887"
             ],
             [
              0.1111111111111111,
              "#46039f"
             ],
             [
              0.2222222222222222,
              "#7201a8"
             ],
             [
              0.3333333333333333,
              "#9c179e"
             ],
             [
              0.4444444444444444,
              "#bd3786"
             ],
             [
              0.5555555555555556,
              "#d8576b"
             ],
             [
              0.6666666666666666,
              "#ed7953"
             ],
             [
              0.7777777777777778,
              "#fb9f3a"
             ],
             [
              0.8888888888888888,
              "#fdca26"
             ],
             [
              1,
              "#f0f921"
             ]
            ],
            "type": "heatmapgl"
           }
          ],
          "histogram": [
           {
            "marker": {
             "colorbar": {
              "outlinewidth": 0,
              "ticks": ""
             }
            },
            "type": "histogram"
           }
          ],
          "histogram2d": [
           {
            "colorbar": {
             "outlinewidth": 0,
             "ticks": ""
            },
            "colorscale": [
             [
              0,
              "#0d0887"
             ],
             [
              0.1111111111111111,
              "#46039f"
             ],
             [
              0.2222222222222222,
              "#7201a8"
             ],
             [
              0.3333333333333333,
              "#9c179e"
             ],
             [
              0.4444444444444444,
              "#bd3786"
             ],
             [
              0.5555555555555556,
              "#d8576b"
             ],
             [
              0.6666666666666666,
              "#ed7953"
             ],
             [
              0.7777777777777778,
              "#fb9f3a"
             ],
             [
              0.8888888888888888,
              "#fdca26"
             ],
             [
              1,
              "#f0f921"
             ]
            ],
            "type": "histogram2d"
           }
          ],
          "histogram2dcontour": [
           {
            "colorbar": {
             "outlinewidth": 0,
             "ticks": ""
            },
            "colorscale": [
             [
              0,
              "#0d0887"
             ],
             [
              0.1111111111111111,
              "#46039f"
             ],
             [
              0.2222222222222222,
              "#7201a8"
             ],
             [
              0.3333333333333333,
              "#9c179e"
             ],
             [
              0.4444444444444444,
              "#bd3786"
             ],
             [
              0.5555555555555556,
              "#d8576b"
             ],
             [
              0.6666666666666666,
              "#ed7953"
             ],
             [
              0.7777777777777778,
              "#fb9f3a"
             ],
             [
              0.8888888888888888,
              "#fdca26"
             ],
             [
              1,
              "#f0f921"
             ]
            ],
            "type": "histogram2dcontour"
           }
          ],
          "mesh3d": [
           {
            "colorbar": {
             "outlinewidth": 0,
             "ticks": ""
            },
            "type": "mesh3d"
           }
          ],
          "parcoords": [
           {
            "line": {
             "colorbar": {
              "outlinewidth": 0,
              "ticks": ""
             }
            },
            "type": "parcoords"
           }
          ],
          "scatter": [
           {
            "marker": {
             "colorbar": {
              "outlinewidth": 0,
              "ticks": ""
             }
            },
            "type": "scatter"
           }
          ],
          "scatter3d": [
           {
            "line": {
             "colorbar": {
              "outlinewidth": 0,
              "ticks": ""
             }
            },
            "marker": {
             "colorbar": {
              "outlinewidth": 0,
              "ticks": ""
             }
            },
            "type": "scatter3d"
           }
          ],
          "scattercarpet": [
           {
            "marker": {
             "colorbar": {
              "outlinewidth": 0,
              "ticks": ""
             }
            },
            "type": "scattercarpet"
           }
          ],
          "scattergeo": [
           {
            "marker": {
             "colorbar": {
              "outlinewidth": 0,
              "ticks": ""
             }
            },
            "type": "scattergeo"
           }
          ],
          "scattergl": [
           {
            "marker": {
             "colorbar": {
              "outlinewidth": 0,
              "ticks": ""
             }
            },
            "type": "scattergl"
           }
          ],
          "scattermapbox": [
           {
            "marker": {
             "colorbar": {
              "outlinewidth": 0,
              "ticks": ""
             }
            },
            "type": "scattermapbox"
           }
          ],
          "scatterpolar": [
           {
            "marker": {
             "colorbar": {
              "outlinewidth": 0,
              "ticks": ""
             }
            },
            "type": "scatterpolar"
           }
          ],
          "scatterpolargl": [
           {
            "marker": {
             "colorbar": {
              "outlinewidth": 0,
              "ticks": ""
             }
            },
            "type": "scatterpolargl"
           }
          ],
          "scatterternary": [
           {
            "marker": {
             "colorbar": {
              "outlinewidth": 0,
              "ticks": ""
             }
            },
            "type": "scatterternary"
           }
          ],
          "surface": [
           {
            "colorbar": {
             "outlinewidth": 0,
             "ticks": ""
            },
            "colorscale": [
             [
              0,
              "#0d0887"
             ],
             [
              0.1111111111111111,
              "#46039f"
             ],
             [
              0.2222222222222222,
              "#7201a8"
             ],
             [
              0.3333333333333333,
              "#9c179e"
             ],
             [
              0.4444444444444444,
              "#bd3786"
             ],
             [
              0.5555555555555556,
              "#d8576b"
             ],
             [
              0.6666666666666666,
              "#ed7953"
             ],
             [
              0.7777777777777778,
              "#fb9f3a"
             ],
             [
              0.8888888888888888,
              "#fdca26"
             ],
             [
              1,
              "#f0f921"
             ]
            ],
            "type": "surface"
           }
          ],
          "table": [
           {
            "cells": {
             "fill": {
              "color": "#EBF0F8"
             },
             "line": {
              "color": "white"
             }
            },
            "header": {
             "fill": {
              "color": "#C8D4E3"
             },
             "line": {
              "color": "white"
             }
            },
            "type": "table"
           }
          ]
         },
         "layout": {
          "annotationdefaults": {
           "arrowcolor": "#2a3f5f",
           "arrowhead": 0,
           "arrowwidth": 1
          },
          "colorscale": {
           "diverging": [
            [
             0,
             "#8e0152"
            ],
            [
             0.1,
             "#c51b7d"
            ],
            [
             0.2,
             "#de77ae"
            ],
            [
             0.3,
             "#f1b6da"
            ],
            [
             0.4,
             "#fde0ef"
            ],
            [
             0.5,
             "#f7f7f7"
            ],
            [
             0.6,
             "#e6f5d0"
            ],
            [
             0.7,
             "#b8e186"
            ],
            [
             0.8,
             "#7fbc41"
            ],
            [
             0.9,
             "#4d9221"
            ],
            [
             1,
             "#276419"
            ]
           ],
           "sequential": [
            [
             0,
             "#0d0887"
            ],
            [
             0.1111111111111111,
             "#46039f"
            ],
            [
             0.2222222222222222,
             "#7201a8"
            ],
            [
             0.3333333333333333,
             "#9c179e"
            ],
            [
             0.4444444444444444,
             "#bd3786"
            ],
            [
             0.5555555555555556,
             "#d8576b"
            ],
            [
             0.6666666666666666,
             "#ed7953"
            ],
            [
             0.7777777777777778,
             "#fb9f3a"
            ],
            [
             0.8888888888888888,
             "#fdca26"
            ],
            [
             1,
             "#f0f921"
            ]
           ],
           "sequentialminus": [
            [
             0,
             "#0d0887"
            ],
            [
             0.1111111111111111,
             "#46039f"
            ],
            [
             0.2222222222222222,
             "#7201a8"
            ],
            [
             0.3333333333333333,
             "#9c179e"
            ],
            [
             0.4444444444444444,
             "#bd3786"
            ],
            [
             0.5555555555555556,
             "#d8576b"
            ],
            [
             0.6666666666666666,
             "#ed7953"
            ],
            [
             0.7777777777777778,
             "#fb9f3a"
            ],
            [
             0.8888888888888888,
             "#fdca26"
            ],
            [
             1,
             "#f0f921"
            ]
           ]
          },
          "colorway": [
           "#636efa",
           "#EF553B",
           "#00cc96",
           "#ab63fa",
           "#FFA15A",
           "#19d3f3",
           "#FF6692",
           "#B6E880",
           "#FF97FF",
           "#FECB52"
          ],
          "font": {
           "color": "#2a3f5f"
          },
          "geo": {
           "bgcolor": "white",
           "lakecolor": "white",
           "landcolor": "#E5ECF6",
           "showlakes": true,
           "showland": true,
           "subunitcolor": "white"
          },
          "hoverlabel": {
           "align": "left"
          },
          "hovermode": "closest",
          "mapbox": {
           "style": "light"
          },
          "paper_bgcolor": "white",
          "plot_bgcolor": "#E5ECF6",
          "polar": {
           "angularaxis": {
            "gridcolor": "white",
            "linecolor": "white",
            "ticks": ""
           },
           "bgcolor": "#E5ECF6",
           "radialaxis": {
            "gridcolor": "white",
            "linecolor": "white",
            "ticks": ""
           }
          },
          "scene": {
           "xaxis": {
            "backgroundcolor": "#E5ECF6",
            "gridcolor": "white",
            "gridwidth": 2,
            "linecolor": "white",
            "showbackground": true,
            "ticks": "",
            "zerolinecolor": "white"
           },
           "yaxis": {
            "backgroundcolor": "#E5ECF6",
            "gridcolor": "white",
            "gridwidth": 2,
            "linecolor": "white",
            "showbackground": true,
            "ticks": "",
            "zerolinecolor": "white"
           },
           "zaxis": {
            "backgroundcolor": "#E5ECF6",
            "gridcolor": "white",
            "gridwidth": 2,
            "linecolor": "white",
            "showbackground": true,
            "ticks": "",
            "zerolinecolor": "white"
           }
          },
          "shapedefaults": {
           "line": {
            "color": "#2a3f5f"
           }
          },
          "ternary": {
           "aaxis": {
            "gridcolor": "white",
            "linecolor": "white",
            "ticks": ""
           },
           "baxis": {
            "gridcolor": "white",
            "linecolor": "white",
            "ticks": ""
           },
           "bgcolor": "#E5ECF6",
           "caxis": {
            "gridcolor": "white",
            "linecolor": "white",
            "ticks": ""
           }
          },
          "title": {
           "x": 0.05
          },
          "xaxis": {
           "automargin": true,
           "gridcolor": "white",
           "linecolor": "white",
           "ticks": "",
           "zerolinecolor": "white",
           "zerolinewidth": 2
          },
          "yaxis": {
           "automargin": true,
           "gridcolor": "white",
           "linecolor": "white",
           "ticks": "",
           "zerolinecolor": "white",
           "zerolinewidth": 2
          }
         }
        },
        "title": {
         "text": "Cluster Transition"
        },
        "width": 1000
       }
      },
      "text/html": [
       "<div>\n",
       "        \n",
       "        \n",
       "            <div id=\"a65daed8-dac9-44bb-a4e8-61c15bbf3d10\" class=\"plotly-graph-div\" style=\"height:800px; width:1000px;\"></div>\n",
       "            <script type=\"text/javascript\">\n",
       "                require([\"plotly\"], function(Plotly) {\n",
       "                    window.PLOTLYENV=window.PLOTLYENV || {};\n",
       "                    \n",
       "                if (document.getElementById(\"a65daed8-dac9-44bb-a4e8-61c15bbf3d10\")) {\n",
       "                    Plotly.newPlot(\n",
       "                        'a65daed8-dac9-44bb-a4e8-61c15bbf3d10',\n",
       "                        [{\"link\": {\"source\": [52, 52, 16, 52, 0, 16, 0, 101, 0, 37, 16, 16, 37, 101, 37, 83, 101, 52, 119, 83, 101, 83, 83, 0, 119, 52, 52, 101, 37, 119, 80, 74, 26, 53, 5, 17, 1, 111, 13, 46, 29, 22, 29, 38, 102, 49, 29, 92, 116, 66, 17, 66, 120, 5, 74, 89, 53, 108, 98, 84, 92, 111, 10, 66, 128, 61, 58, 105, 61, 41, 84, 123, 123, 41, 81, 77, 77, 27, 54, 8, 20, 2, 112, 14, 47, 35, 23, 30, 39, 103, 50, 32, 93, 117, 71, 18, 67, 121, 6, 75, 90, 56, 109, 99, 85, 96, 71, 114, 11, 69, 129, 23, 64, 59, 106, 62, 42, 87, 126, 124, 32, 2, 93, 44], \"target\": [80, 74, 26, 53, 5, 17, 1, 111, 13, 46, 29, 22, 38, 102, 49, 92, 116, 66, 120, 89, 108, 98, 84, 10, 128, 61, 58, 105, 41, 123, 81, 77, 27, 54, 8, 20, 2, 112, 14, 47, 35, 23, 30, 39, 103, 50, 32, 93, 117, 71, 18, 67, 121, 6, 75, 90, 56, 109, 99, 85, 96, 114, 11, 69, 129, 64, 59, 106, 62, 42, 87, 126, 124, 44, 82, 79, 78, 28, 55, 9, 21, 3, 113, 15, 48, 36, 25, 31, 40, 104, 51, 33, 94, 118, 73, 19, 68, 122, 7, 76, 91, 57, 110, 100, 86, 97, 72, 115, 12, 70, 130, 24, 65, 60, 107, 63, 43, 88, 127, 125, 34, 4, 95, 45], \"value\": [1, 5, 1, 3, 2, 2, 2, 2, 1, 1, 4, 2, 1, 1, 1, 3, 1, 7, 1, 2, 1, 1, 2, 1, 1, 2, 1, 1, 2, 2, 1, 4, 1, 1, 1, 1, 2, 1, 1, 1, 1, 2, 1, 1, 1, 1, 2, 2, 1, 5, 1, 1, 1, 1, 1, 2, 2, 1, 1, 1, 1, 1, 1, 1, 1, 1, 1, 1, 1, 1, 1, 1, 1, 1, 1, 3, 1, 1, 1, 1, 1, 1, 1, 1, 1, 1, 1, 1, 1, 1, 1, 1, 1, 1, 4, 1, 1, 1, 1, 1, 2, 2, 1, 1, 1, 1, 1, 1, 1, 1, 1, 1, 1, 1, 1, 1, 1, 1, 1, 1, 1, 1, 1, 1]}, \"node\": {\"color\": [\"deepskyblue\", \"deepskyblue\", \"deepskyblue\", \"deepskyblue\", \"deepskyblue\", \"deepskyblue\", \"deepskyblue\", \"deepskyblue\", \"deepskyblue\", \"deepskyblue\", \"deepskyblue\", \"deepskyblue\", \"deepskyblue\", \"deepskyblue\", \"deepskyblue\", \"deepskyblue\", \"darkorange\", \"darkorange\", \"darkorange\", \"darkorange\", \"darkorange\", \"darkorange\", \"darkorange\", \"darkorange\", \"darkorange\", \"darkorange\", \"darkorange\", \"darkorange\", \"darkorange\", \"darkorange\", \"darkorange\", \"darkorange\", \"darkorange\", \"darkorange\", \"darkorange\", \"darkorange\", \"darkorange\", \"plum\", \"plum\", \"plum\", \"plum\", \"plum\", \"plum\", \"plum\", \"plum\", \"plum\", \"plum\", \"plum\", \"plum\", \"plum\", \"plum\", \"plum\", \"lime\", \"lime\", \"lime\", \"lime\", \"lime\", \"lime\", \"lime\", \"lime\", \"lime\", \"lime\", \"lime\", \"lime\", \"lime\", \"lime\", \"lime\", \"lime\", \"lime\", \"lime\", \"lime\", \"lime\", \"lime\", \"lime\", \"lime\", \"lime\", \"lime\", \"lime\", \"lime\", \"lime\", \"lime\", \"lime\", \"lime\", \"cyan\", \"cyan\", \"cyan\", \"cyan\", \"cyan\", \"cyan\", \"cyan\", \"cyan\", \"cyan\", \"cyan\", \"cyan\", \"cyan\", \"cyan\", \"cyan\", \"cyan\", \"cyan\", \"cyan\", \"cyan\", \"sandybrown\", \"sandybrown\", \"sandybrown\", \"sandybrown\", \"sandybrown\", \"sandybrown\", \"sandybrown\", \"sandybrown\", \"sandybrown\", \"sandybrown\", \"sandybrown\", \"sandybrown\", \"sandybrown\", \"sandybrown\", \"sandybrown\", \"sandybrown\", \"sandybrown\", \"sandybrown\", \"teal\", \"teal\", \"teal\", \"teal\", \"teal\", \"teal\", \"teal\", \"teal\", \"teal\", \"teal\", \"teal\", \"teal\"], \"label\": [\"1\", \"11\", \"112\", \"1121\", \"1122\", \"12\", \"121\", \"1212\", \"126\", \"1266\", \"14\", \"144\", \"1444\", \"16\", \"161\", \"1611\", \"2\", \"22\", \"222\", \"2221\", \"226\", \"2262\", \"23\", \"236\", \"2362\", \"2366\", \"26\", \"264\", \"2644\", \"27\", \"273\", \"2737\", \"276\", \"2766\", \"2767\", \"277\", \"2772\", \"3\", \"31\", \"313\", \"3133\", \"33\", \"335\", \"3351\", \"336\", \"3366\", \"35\", \"357\", \"3577\", \"37\", \"372\", \"3722\", \"4\", \"41\", \"411\", \"4117\", \"414\", \"4141\", \"42\", \"423\", \"4234\", \"43\", \"436\", \"4366\", \"437\", \"4374\", \"44\", \"441\", \"4414\", \"443\", \"4434\", \"444\", \"4441\", \"4444\", \"45\", \"451\", \"4514\", \"454\", \"4543\", \"4544\", \"47\", \"474\", \"4743\", \"5\", \"53\", \"533\", \"5333\", \"534\", \"5344\", \"54\", \"543\", \"5434\", \"55\", \"553\", \"5533\", \"5535\", \"554\", \"5544\", \"57\", \"575\", \"5754\", \"6\", \"62\", \"626\", \"6266\", \"63\", \"636\", \"6366\", \"64\", \"642\", \"6425\", \"66\", \"663\", \"6637\", \"666\", \"6666\", \"67\", \"673\", \"6737\", \"7\", \"72\", \"724\", \"7241\", \"73\", \"732\", \"7321\", \"735\", \"7354\", \"77\", \"777\", \"7773\"], \"line\": {\"color\": \"black\", \"width\": 0.5}, \"pad\": 2, \"thickness\": 20}, \"type\": \"sankey\"}],\n",
       "                        {\"font\": {\"size\": 10}, \"height\": 800, \"template\": {\"data\": {\"bar\": [{\"error_x\": {\"color\": \"#2a3f5f\"}, \"error_y\": {\"color\": \"#2a3f5f\"}, \"marker\": {\"line\": {\"color\": \"#E5ECF6\", \"width\": 0.5}}, \"type\": \"bar\"}], \"barpolar\": [{\"marker\": {\"line\": {\"color\": \"#E5ECF6\", \"width\": 0.5}}, \"type\": \"barpolar\"}], \"carpet\": [{\"aaxis\": {\"endlinecolor\": \"#2a3f5f\", \"gridcolor\": \"white\", \"linecolor\": \"white\", \"minorgridcolor\": \"white\", \"startlinecolor\": \"#2a3f5f\"}, \"baxis\": {\"endlinecolor\": \"#2a3f5f\", \"gridcolor\": \"white\", \"linecolor\": \"white\", \"minorgridcolor\": \"white\", \"startlinecolor\": \"#2a3f5f\"}, \"type\": \"carpet\"}], \"choropleth\": [{\"colorbar\": {\"outlinewidth\": 0, \"ticks\": \"\"}, \"type\": \"choropleth\"}], \"contour\": [{\"colorbar\": {\"outlinewidth\": 0, \"ticks\": \"\"}, \"colorscale\": [[0.0, \"#0d0887\"], [0.1111111111111111, \"#46039f\"], [0.2222222222222222, \"#7201a8\"], [0.3333333333333333, \"#9c179e\"], [0.4444444444444444, \"#bd3786\"], [0.5555555555555556, \"#d8576b\"], [0.6666666666666666, \"#ed7953\"], [0.7777777777777778, \"#fb9f3a\"], [0.8888888888888888, \"#fdca26\"], [1.0, \"#f0f921\"]], \"type\": \"contour\"}], \"contourcarpet\": [{\"colorbar\": {\"outlinewidth\": 0, \"ticks\": \"\"}, \"type\": \"contourcarpet\"}], \"heatmap\": [{\"colorbar\": {\"outlinewidth\": 0, \"ticks\": \"\"}, \"colorscale\": [[0.0, \"#0d0887\"], [0.1111111111111111, \"#46039f\"], [0.2222222222222222, \"#7201a8\"], [0.3333333333333333, \"#9c179e\"], [0.4444444444444444, \"#bd3786\"], [0.5555555555555556, \"#d8576b\"], [0.6666666666666666, \"#ed7953\"], [0.7777777777777778, \"#fb9f3a\"], [0.8888888888888888, \"#fdca26\"], [1.0, \"#f0f921\"]], \"type\": \"heatmap\"}], \"heatmapgl\": [{\"colorbar\": {\"outlinewidth\": 0, \"ticks\": \"\"}, \"colorscale\": [[0.0, \"#0d0887\"], [0.1111111111111111, \"#46039f\"], [0.2222222222222222, \"#7201a8\"], [0.3333333333333333, \"#9c179e\"], [0.4444444444444444, \"#bd3786\"], [0.5555555555555556, \"#d8576b\"], [0.6666666666666666, \"#ed7953\"], [0.7777777777777778, \"#fb9f3a\"], [0.8888888888888888, \"#fdca26\"], [1.0, \"#f0f921\"]], \"type\": \"heatmapgl\"}], \"histogram\": [{\"marker\": {\"colorbar\": {\"outlinewidth\": 0, \"ticks\": \"\"}}, \"type\": \"histogram\"}], \"histogram2d\": [{\"colorbar\": {\"outlinewidth\": 0, \"ticks\": \"\"}, \"colorscale\": [[0.0, \"#0d0887\"], [0.1111111111111111, \"#46039f\"], [0.2222222222222222, \"#7201a8\"], [0.3333333333333333, \"#9c179e\"], [0.4444444444444444, \"#bd3786\"], [0.5555555555555556, \"#d8576b\"], [0.6666666666666666, \"#ed7953\"], [0.7777777777777778, \"#fb9f3a\"], [0.8888888888888888, \"#fdca26\"], [1.0, \"#f0f921\"]], \"type\": \"histogram2d\"}], \"histogram2dcontour\": [{\"colorbar\": {\"outlinewidth\": 0, \"ticks\": \"\"}, \"colorscale\": [[0.0, \"#0d0887\"], [0.1111111111111111, \"#46039f\"], [0.2222222222222222, \"#7201a8\"], [0.3333333333333333, \"#9c179e\"], [0.4444444444444444, \"#bd3786\"], [0.5555555555555556, \"#d8576b\"], [0.6666666666666666, \"#ed7953\"], [0.7777777777777778, \"#fb9f3a\"], [0.8888888888888888, \"#fdca26\"], [1.0, \"#f0f921\"]], \"type\": \"histogram2dcontour\"}], \"mesh3d\": [{\"colorbar\": {\"outlinewidth\": 0, \"ticks\": \"\"}, \"type\": \"mesh3d\"}], \"parcoords\": [{\"line\": {\"colorbar\": {\"outlinewidth\": 0, \"ticks\": \"\"}}, \"type\": \"parcoords\"}], \"scatter\": [{\"marker\": {\"colorbar\": {\"outlinewidth\": 0, \"ticks\": \"\"}}, \"type\": \"scatter\"}], \"scatter3d\": [{\"line\": {\"colorbar\": {\"outlinewidth\": 0, \"ticks\": \"\"}}, \"marker\": {\"colorbar\": {\"outlinewidth\": 0, \"ticks\": \"\"}}, \"type\": \"scatter3d\"}], \"scattercarpet\": [{\"marker\": {\"colorbar\": {\"outlinewidth\": 0, \"ticks\": \"\"}}, \"type\": \"scattercarpet\"}], \"scattergeo\": [{\"marker\": {\"colorbar\": {\"outlinewidth\": 0, \"ticks\": \"\"}}, \"type\": \"scattergeo\"}], \"scattergl\": [{\"marker\": {\"colorbar\": {\"outlinewidth\": 0, \"ticks\": \"\"}}, \"type\": \"scattergl\"}], \"scattermapbox\": [{\"marker\": {\"colorbar\": {\"outlinewidth\": 0, \"ticks\": \"\"}}, \"type\": \"scattermapbox\"}], \"scatterpolar\": [{\"marker\": {\"colorbar\": {\"outlinewidth\": 0, \"ticks\": \"\"}}, \"type\": \"scatterpolar\"}], \"scatterpolargl\": [{\"marker\": {\"colorbar\": {\"outlinewidth\": 0, \"ticks\": \"\"}}, \"type\": \"scatterpolargl\"}], \"scatterternary\": [{\"marker\": {\"colorbar\": {\"outlinewidth\": 0, \"ticks\": \"\"}}, \"type\": \"scatterternary\"}], \"surface\": [{\"colorbar\": {\"outlinewidth\": 0, \"ticks\": \"\"}, \"colorscale\": [[0.0, \"#0d0887\"], [0.1111111111111111, \"#46039f\"], [0.2222222222222222, \"#7201a8\"], [0.3333333333333333, \"#9c179e\"], [0.4444444444444444, \"#bd3786\"], [0.5555555555555556, \"#d8576b\"], [0.6666666666666666, \"#ed7953\"], [0.7777777777777778, \"#fb9f3a\"], [0.8888888888888888, \"#fdca26\"], [1.0, \"#f0f921\"]], \"type\": \"surface\"}], \"table\": [{\"cells\": {\"fill\": {\"color\": \"#EBF0F8\"}, \"line\": {\"color\": \"white\"}}, \"header\": {\"fill\": {\"color\": \"#C8D4E3\"}, \"line\": {\"color\": \"white\"}}, \"type\": \"table\"}]}, \"layout\": {\"annotationdefaults\": {\"arrowcolor\": \"#2a3f5f\", \"arrowhead\": 0, \"arrowwidth\": 1}, \"colorscale\": {\"diverging\": [[0, \"#8e0152\"], [0.1, \"#c51b7d\"], [0.2, \"#de77ae\"], [0.3, \"#f1b6da\"], [0.4, \"#fde0ef\"], [0.5, \"#f7f7f7\"], [0.6, \"#e6f5d0\"], [0.7, \"#b8e186\"], [0.8, \"#7fbc41\"], [0.9, \"#4d9221\"], [1, \"#276419\"]], \"sequential\": [[0.0, \"#0d0887\"], [0.1111111111111111, \"#46039f\"], [0.2222222222222222, \"#7201a8\"], [0.3333333333333333, \"#9c179e\"], [0.4444444444444444, \"#bd3786\"], [0.5555555555555556, \"#d8576b\"], [0.6666666666666666, \"#ed7953\"], [0.7777777777777778, \"#fb9f3a\"], [0.8888888888888888, \"#fdca26\"], [1.0, \"#f0f921\"]], \"sequentialminus\": [[0.0, \"#0d0887\"], [0.1111111111111111, \"#46039f\"], [0.2222222222222222, \"#7201a8\"], [0.3333333333333333, \"#9c179e\"], [0.4444444444444444, \"#bd3786\"], [0.5555555555555556, \"#d8576b\"], [0.6666666666666666, \"#ed7953\"], [0.7777777777777778, \"#fb9f3a\"], [0.8888888888888888, \"#fdca26\"], [1.0, \"#f0f921\"]]}, \"colorway\": [\"#636efa\", \"#EF553B\", \"#00cc96\", \"#ab63fa\", \"#FFA15A\", \"#19d3f3\", \"#FF6692\", \"#B6E880\", \"#FF97FF\", \"#FECB52\"], \"font\": {\"color\": \"#2a3f5f\"}, \"geo\": {\"bgcolor\": \"white\", \"lakecolor\": \"white\", \"landcolor\": \"#E5ECF6\", \"showlakes\": true, \"showland\": true, \"subunitcolor\": \"white\"}, \"hoverlabel\": {\"align\": \"left\"}, \"hovermode\": \"closest\", \"mapbox\": {\"style\": \"light\"}, \"paper_bgcolor\": \"white\", \"plot_bgcolor\": \"#E5ECF6\", \"polar\": {\"angularaxis\": {\"gridcolor\": \"white\", \"linecolor\": \"white\", \"ticks\": \"\"}, \"bgcolor\": \"#E5ECF6\", \"radialaxis\": {\"gridcolor\": \"white\", \"linecolor\": \"white\", \"ticks\": \"\"}}, \"scene\": {\"xaxis\": {\"backgroundcolor\": \"#E5ECF6\", \"gridcolor\": \"white\", \"gridwidth\": 2, \"linecolor\": \"white\", \"showbackground\": true, \"ticks\": \"\", \"zerolinecolor\": \"white\"}, \"yaxis\": {\"backgroundcolor\": \"#E5ECF6\", \"gridcolor\": \"white\", \"gridwidth\": 2, \"linecolor\": \"white\", \"showbackground\": true, \"ticks\": \"\", \"zerolinecolor\": \"white\"}, \"zaxis\": {\"backgroundcolor\": \"#E5ECF6\", \"gridcolor\": \"white\", \"gridwidth\": 2, \"linecolor\": \"white\", \"showbackground\": true, \"ticks\": \"\", \"zerolinecolor\": \"white\"}}, \"shapedefaults\": {\"line\": {\"color\": \"#2a3f5f\"}}, \"ternary\": {\"aaxis\": {\"gridcolor\": \"white\", \"linecolor\": \"white\", \"ticks\": \"\"}, \"baxis\": {\"gridcolor\": \"white\", \"linecolor\": \"white\", \"ticks\": \"\"}, \"bgcolor\": \"#E5ECF6\", \"caxis\": {\"gridcolor\": \"white\", \"linecolor\": \"white\", \"ticks\": \"\"}}, \"title\": {\"x\": 0.05}, \"xaxis\": {\"automargin\": true, \"gridcolor\": \"white\", \"linecolor\": \"white\", \"ticks\": \"\", \"zerolinecolor\": \"white\", \"zerolinewidth\": 2}, \"yaxis\": {\"automargin\": true, \"gridcolor\": \"white\", \"linecolor\": \"white\", \"ticks\": \"\", \"zerolinecolor\": \"white\", \"zerolinewidth\": 2}}}, \"title\": {\"text\": \"Cluster Transition\"}, \"width\": 1000},\n",
       "                        {\"responsive\": true}\n",
       "                    ).then(function(){\n",
       "                            \n",
       "var gd = document.getElementById('a65daed8-dac9-44bb-a4e8-61c15bbf3d10');\n",
       "var x = new MutationObserver(function (mutations, observer) {{\n",
       "        var display = window.getComputedStyle(gd).display;\n",
       "        if (!display || display === 'none') {{\n",
       "            console.log([gd, 'removed!']);\n",
       "            Plotly.purge(gd);\n",
       "            observer.disconnect();\n",
       "        }}\n",
       "}});\n",
       "\n",
       "// Listen for the removal of the full notebook cells\n",
       "var notebookContainer = gd.closest('#notebook-container');\n",
       "if (notebookContainer) {{\n",
       "    x.observe(notebookContainer, {childList: true});\n",
       "}}\n",
       "\n",
       "// Listen for the clearing of the current output cell\n",
       "var outputEl = gd.closest('.output');\n",
       "if (outputEl) {{\n",
       "    x.observe(outputEl, {childList: true});\n",
       "}}\n",
       "\n",
       "                        })\n",
       "                };\n",
       "                });\n",
       "            </script>\n",
       "        </div>"
      ]
     },
     "metadata": {},
     "output_type": "display_data"
    }
   ],
   "source": [
    "fig = go.Figure(data=[go.Sankey(\n",
    "    node = dict(\n",
    "        pad = 2,\n",
    "        thickness = 20,\n",
    "        line = dict(color = \"black\", width = 0.5),\n",
    "        label = labels,\n",
    "        color = colors\n",
    "    ),\n",
    "    link = dict(\n",
    "        source = sources,\n",
    "        target = targets,\n",
    "        value = values\n",
    "    ))])\n",
    "\n",
    "fig.update_layout(title_text=\"Cluster Transition\", font_size=10, width=1000, height=800)\n",
    "fig.show()"
   ]
  }
 ],
 "metadata": {
  "kernelspec": {
   "display_name": "Python 3",
   "language": "python",
   "name": "python3"
  },
  "language_info": {
   "codemirror_mode": {
    "name": "ipython",
    "version": 3
   },
   "file_extension": ".py",
   "mimetype": "text/x-python",
   "name": "python",
   "nbconvert_exporter": "python",
   "pygments_lexer": "ipython3",
   "version": "3.6.6"
  }
 },
 "nbformat": 4,
 "nbformat_minor": 2
}
